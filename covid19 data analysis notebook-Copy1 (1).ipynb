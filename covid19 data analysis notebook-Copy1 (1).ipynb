{
 "cells": [
  {
   "cell_type": "markdown",
   "metadata": {},
   "source": [
    "# Welcome to Covid19 Data Analysis Notebook\n",
    "------------------------------------------"
   ]
  },
  {
   "cell_type": "markdown",
   "metadata": {},
   "source": [
    "### Let's Import the modules "
   ]
  },
  {
   "cell_type": "code",
   "execution_count": 1,
   "metadata": {},
   "outputs": [
    {
     "name": "stdout",
     "output_type": "stream",
     "text": [
      "Modules are imported.\n"
     ]
    }
   ],
   "source": [
    "import pandas as pd \n",
    "import numpy as np \n",
    "import seaborn as sns\n",
    "import matplotlib.pyplot as plt \n",
    "print('Modules are imported.')"
   ]
  },
  {
   "cell_type": "markdown",
   "metadata": {},
   "source": [
    "## Task 2 "
   ]
  },
  {
   "cell_type": "markdown",
   "metadata": {},
   "source": [
    "### Task 2.1: importing covid19 dataset\n",
    "importing \"Covid19_Confirmed_dataset.csv\" from \"./Dataset\" folder. \n"
   ]
  },
  {
   "cell_type": "code",
   "execution_count": 2,
   "metadata": {},
   "outputs": [],
   "source": [
    "df=pd.read_csv(\"Datasets/covid19_Confirmed_dataset.csv\")"
   ]
  },
  {
   "cell_type": "code",
   "execution_count": 3,
   "metadata": {},
   "outputs": [
    {
     "data": {
      "text/html": [
       "<div>\n",
       "<style scoped>\n",
       "    .dataframe tbody tr th:only-of-type {\n",
       "        vertical-align: middle;\n",
       "    }\n",
       "\n",
       "    .dataframe tbody tr th {\n",
       "        vertical-align: top;\n",
       "    }\n",
       "\n",
       "    .dataframe thead th {\n",
       "        text-align: right;\n",
       "    }\n",
       "</style>\n",
       "<table border=\"1\" class=\"dataframe\">\n",
       "  <thead>\n",
       "    <tr style=\"text-align: right;\">\n",
       "      <th></th>\n",
       "      <th>Province/State</th>\n",
       "      <th>Country/Region</th>\n",
       "      <th>Lat</th>\n",
       "      <th>Long</th>\n",
       "      <th>1/22/20</th>\n",
       "      <th>1/23/20</th>\n",
       "      <th>1/24/20</th>\n",
       "      <th>1/25/20</th>\n",
       "      <th>1/26/20</th>\n",
       "      <th>1/27/20</th>\n",
       "      <th>...</th>\n",
       "      <th>4/21/20</th>\n",
       "      <th>4/22/20</th>\n",
       "      <th>4/23/20</th>\n",
       "      <th>4/24/20</th>\n",
       "      <th>4/25/20</th>\n",
       "      <th>4/26/20</th>\n",
       "      <th>4/27/20</th>\n",
       "      <th>4/28/20</th>\n",
       "      <th>4/29/20</th>\n",
       "      <th>4/30/20</th>\n",
       "    </tr>\n",
       "  </thead>\n",
       "  <tbody>\n",
       "    <tr>\n",
       "      <th>0</th>\n",
       "      <td>NaN</td>\n",
       "      <td>Afghanistan</td>\n",
       "      <td>33.0000</td>\n",
       "      <td>65.0000</td>\n",
       "      <td>0</td>\n",
       "      <td>0</td>\n",
       "      <td>0</td>\n",
       "      <td>0</td>\n",
       "      <td>0</td>\n",
       "      <td>0</td>\n",
       "      <td>...</td>\n",
       "      <td>1092</td>\n",
       "      <td>1176</td>\n",
       "      <td>1279</td>\n",
       "      <td>1351</td>\n",
       "      <td>1463</td>\n",
       "      <td>1531</td>\n",
       "      <td>1703</td>\n",
       "      <td>1828</td>\n",
       "      <td>1939</td>\n",
       "      <td>2171</td>\n",
       "    </tr>\n",
       "    <tr>\n",
       "      <th>1</th>\n",
       "      <td>NaN</td>\n",
       "      <td>Albania</td>\n",
       "      <td>41.1533</td>\n",
       "      <td>20.1683</td>\n",
       "      <td>0</td>\n",
       "      <td>0</td>\n",
       "      <td>0</td>\n",
       "      <td>0</td>\n",
       "      <td>0</td>\n",
       "      <td>0</td>\n",
       "      <td>...</td>\n",
       "      <td>609</td>\n",
       "      <td>634</td>\n",
       "      <td>663</td>\n",
       "      <td>678</td>\n",
       "      <td>712</td>\n",
       "      <td>726</td>\n",
       "      <td>736</td>\n",
       "      <td>750</td>\n",
       "      <td>766</td>\n",
       "      <td>773</td>\n",
       "    </tr>\n",
       "    <tr>\n",
       "      <th>2</th>\n",
       "      <td>NaN</td>\n",
       "      <td>Algeria</td>\n",
       "      <td>28.0339</td>\n",
       "      <td>1.6596</td>\n",
       "      <td>0</td>\n",
       "      <td>0</td>\n",
       "      <td>0</td>\n",
       "      <td>0</td>\n",
       "      <td>0</td>\n",
       "      <td>0</td>\n",
       "      <td>...</td>\n",
       "      <td>2811</td>\n",
       "      <td>2910</td>\n",
       "      <td>3007</td>\n",
       "      <td>3127</td>\n",
       "      <td>3256</td>\n",
       "      <td>3382</td>\n",
       "      <td>3517</td>\n",
       "      <td>3649</td>\n",
       "      <td>3848</td>\n",
       "      <td>4006</td>\n",
       "    </tr>\n",
       "    <tr>\n",
       "      <th>3</th>\n",
       "      <td>NaN</td>\n",
       "      <td>Andorra</td>\n",
       "      <td>42.5063</td>\n",
       "      <td>1.5218</td>\n",
       "      <td>0</td>\n",
       "      <td>0</td>\n",
       "      <td>0</td>\n",
       "      <td>0</td>\n",
       "      <td>0</td>\n",
       "      <td>0</td>\n",
       "      <td>...</td>\n",
       "      <td>717</td>\n",
       "      <td>723</td>\n",
       "      <td>723</td>\n",
       "      <td>731</td>\n",
       "      <td>738</td>\n",
       "      <td>738</td>\n",
       "      <td>743</td>\n",
       "      <td>743</td>\n",
       "      <td>743</td>\n",
       "      <td>745</td>\n",
       "    </tr>\n",
       "    <tr>\n",
       "      <th>4</th>\n",
       "      <td>NaN</td>\n",
       "      <td>Angola</td>\n",
       "      <td>-11.2027</td>\n",
       "      <td>17.8739</td>\n",
       "      <td>0</td>\n",
       "      <td>0</td>\n",
       "      <td>0</td>\n",
       "      <td>0</td>\n",
       "      <td>0</td>\n",
       "      <td>0</td>\n",
       "      <td>...</td>\n",
       "      <td>24</td>\n",
       "      <td>25</td>\n",
       "      <td>25</td>\n",
       "      <td>25</td>\n",
       "      <td>25</td>\n",
       "      <td>26</td>\n",
       "      <td>27</td>\n",
       "      <td>27</td>\n",
       "      <td>27</td>\n",
       "      <td>27</td>\n",
       "    </tr>\n",
       "  </tbody>\n",
       "</table>\n",
       "<p>5 rows × 104 columns</p>\n",
       "</div>"
      ],
      "text/plain": [
       "  Province/State Country/Region      Lat     Long  1/22/20  1/23/20  1/24/20  \\\n",
       "0            NaN    Afghanistan  33.0000  65.0000        0        0        0   \n",
       "1            NaN        Albania  41.1533  20.1683        0        0        0   \n",
       "2            NaN        Algeria  28.0339   1.6596        0        0        0   \n",
       "3            NaN        Andorra  42.5063   1.5218        0        0        0   \n",
       "4            NaN         Angola -11.2027  17.8739        0        0        0   \n",
       "\n",
       "   1/25/20  1/26/20  1/27/20  ...  4/21/20  4/22/20  4/23/20  4/24/20  \\\n",
       "0        0        0        0  ...     1092     1176     1279     1351   \n",
       "1        0        0        0  ...      609      634      663      678   \n",
       "2        0        0        0  ...     2811     2910     3007     3127   \n",
       "3        0        0        0  ...      717      723      723      731   \n",
       "4        0        0        0  ...       24       25       25       25   \n",
       "\n",
       "   4/25/20  4/26/20  4/27/20  4/28/20  4/29/20  4/30/20  \n",
       "0     1463     1531     1703     1828     1939     2171  \n",
       "1      712      726      736      750      766      773  \n",
       "2     3256     3382     3517     3649     3848     4006  \n",
       "3      738      738      743      743      743      745  \n",
       "4       25       26       27       27       27       27  \n",
       "\n",
       "[5 rows x 104 columns]"
      ]
     },
     "execution_count": 3,
     "metadata": {},
     "output_type": "execute_result"
    }
   ],
   "source": [
    "df.head()"
   ]
  },
  {
   "cell_type": "markdown",
   "metadata": {},
   "source": [
    "#### Let's check the shape of the dataframe"
   ]
  },
  {
   "cell_type": "code",
   "execution_count": 4,
   "metadata": {},
   "outputs": [
    {
     "data": {
      "text/plain": [
       "(266, 104)"
      ]
     },
     "execution_count": 4,
     "metadata": {},
     "output_type": "execute_result"
    }
   ],
   "source": [
    "df.shape"
   ]
  },
  {
   "cell_type": "markdown",
   "metadata": {},
   "source": [
    "### Task 2.2: Delete the useless columns"
   ]
  },
  {
   "cell_type": "code",
   "execution_count": 5,
   "metadata": {},
   "outputs": [],
   "source": [
    "df.drop(columns=[\"Lat\",\"Long\"],inplace=True) # we know from domain that these columns are useless for our analysis"
   ]
  },
  {
   "cell_type": "code",
   "execution_count": 6,
   "metadata": {},
   "outputs": [
    {
     "data": {
      "text/html": [
       "<div>\n",
       "<style scoped>\n",
       "    .dataframe tbody tr th:only-of-type {\n",
       "        vertical-align: middle;\n",
       "    }\n",
       "\n",
       "    .dataframe tbody tr th {\n",
       "        vertical-align: top;\n",
       "    }\n",
       "\n",
       "    .dataframe thead th {\n",
       "        text-align: right;\n",
       "    }\n",
       "</style>\n",
       "<table border=\"1\" class=\"dataframe\">\n",
       "  <thead>\n",
       "    <tr style=\"text-align: right;\">\n",
       "      <th></th>\n",
       "      <th>Province/State</th>\n",
       "      <th>Country/Region</th>\n",
       "      <th>1/22/20</th>\n",
       "      <th>1/23/20</th>\n",
       "      <th>1/24/20</th>\n",
       "      <th>1/25/20</th>\n",
       "      <th>1/26/20</th>\n",
       "      <th>1/27/20</th>\n",
       "      <th>1/28/20</th>\n",
       "      <th>1/29/20</th>\n",
       "      <th>...</th>\n",
       "      <th>4/21/20</th>\n",
       "      <th>4/22/20</th>\n",
       "      <th>4/23/20</th>\n",
       "      <th>4/24/20</th>\n",
       "      <th>4/25/20</th>\n",
       "      <th>4/26/20</th>\n",
       "      <th>4/27/20</th>\n",
       "      <th>4/28/20</th>\n",
       "      <th>4/29/20</th>\n",
       "      <th>4/30/20</th>\n",
       "    </tr>\n",
       "  </thead>\n",
       "  <tbody>\n",
       "    <tr>\n",
       "      <th>0</th>\n",
       "      <td>NaN</td>\n",
       "      <td>Afghanistan</td>\n",
       "      <td>0</td>\n",
       "      <td>0</td>\n",
       "      <td>0</td>\n",
       "      <td>0</td>\n",
       "      <td>0</td>\n",
       "      <td>0</td>\n",
       "      <td>0</td>\n",
       "      <td>0</td>\n",
       "      <td>...</td>\n",
       "      <td>1092</td>\n",
       "      <td>1176</td>\n",
       "      <td>1279</td>\n",
       "      <td>1351</td>\n",
       "      <td>1463</td>\n",
       "      <td>1531</td>\n",
       "      <td>1703</td>\n",
       "      <td>1828</td>\n",
       "      <td>1939</td>\n",
       "      <td>2171</td>\n",
       "    </tr>\n",
       "    <tr>\n",
       "      <th>1</th>\n",
       "      <td>NaN</td>\n",
       "      <td>Albania</td>\n",
       "      <td>0</td>\n",
       "      <td>0</td>\n",
       "      <td>0</td>\n",
       "      <td>0</td>\n",
       "      <td>0</td>\n",
       "      <td>0</td>\n",
       "      <td>0</td>\n",
       "      <td>0</td>\n",
       "      <td>...</td>\n",
       "      <td>609</td>\n",
       "      <td>634</td>\n",
       "      <td>663</td>\n",
       "      <td>678</td>\n",
       "      <td>712</td>\n",
       "      <td>726</td>\n",
       "      <td>736</td>\n",
       "      <td>750</td>\n",
       "      <td>766</td>\n",
       "      <td>773</td>\n",
       "    </tr>\n",
       "    <tr>\n",
       "      <th>2</th>\n",
       "      <td>NaN</td>\n",
       "      <td>Algeria</td>\n",
       "      <td>0</td>\n",
       "      <td>0</td>\n",
       "      <td>0</td>\n",
       "      <td>0</td>\n",
       "      <td>0</td>\n",
       "      <td>0</td>\n",
       "      <td>0</td>\n",
       "      <td>0</td>\n",
       "      <td>...</td>\n",
       "      <td>2811</td>\n",
       "      <td>2910</td>\n",
       "      <td>3007</td>\n",
       "      <td>3127</td>\n",
       "      <td>3256</td>\n",
       "      <td>3382</td>\n",
       "      <td>3517</td>\n",
       "      <td>3649</td>\n",
       "      <td>3848</td>\n",
       "      <td>4006</td>\n",
       "    </tr>\n",
       "    <tr>\n",
       "      <th>3</th>\n",
       "      <td>NaN</td>\n",
       "      <td>Andorra</td>\n",
       "      <td>0</td>\n",
       "      <td>0</td>\n",
       "      <td>0</td>\n",
       "      <td>0</td>\n",
       "      <td>0</td>\n",
       "      <td>0</td>\n",
       "      <td>0</td>\n",
       "      <td>0</td>\n",
       "      <td>...</td>\n",
       "      <td>717</td>\n",
       "      <td>723</td>\n",
       "      <td>723</td>\n",
       "      <td>731</td>\n",
       "      <td>738</td>\n",
       "      <td>738</td>\n",
       "      <td>743</td>\n",
       "      <td>743</td>\n",
       "      <td>743</td>\n",
       "      <td>745</td>\n",
       "    </tr>\n",
       "    <tr>\n",
       "      <th>4</th>\n",
       "      <td>NaN</td>\n",
       "      <td>Angola</td>\n",
       "      <td>0</td>\n",
       "      <td>0</td>\n",
       "      <td>0</td>\n",
       "      <td>0</td>\n",
       "      <td>0</td>\n",
       "      <td>0</td>\n",
       "      <td>0</td>\n",
       "      <td>0</td>\n",
       "      <td>...</td>\n",
       "      <td>24</td>\n",
       "      <td>25</td>\n",
       "      <td>25</td>\n",
       "      <td>25</td>\n",
       "      <td>25</td>\n",
       "      <td>26</td>\n",
       "      <td>27</td>\n",
       "      <td>27</td>\n",
       "      <td>27</td>\n",
       "      <td>27</td>\n",
       "    </tr>\n",
       "  </tbody>\n",
       "</table>\n",
       "<p>5 rows × 102 columns</p>\n",
       "</div>"
      ],
      "text/plain": [
       "  Province/State Country/Region  1/22/20  1/23/20  1/24/20  1/25/20  1/26/20  \\\n",
       "0            NaN    Afghanistan        0        0        0        0        0   \n",
       "1            NaN        Albania        0        0        0        0        0   \n",
       "2            NaN        Algeria        0        0        0        0        0   \n",
       "3            NaN        Andorra        0        0        0        0        0   \n",
       "4            NaN         Angola        0        0        0        0        0   \n",
       "\n",
       "   1/27/20  1/28/20  1/29/20  ...  4/21/20  4/22/20  4/23/20  4/24/20  \\\n",
       "0        0        0        0  ...     1092     1176     1279     1351   \n",
       "1        0        0        0  ...      609      634      663      678   \n",
       "2        0        0        0  ...     2811     2910     3007     3127   \n",
       "3        0        0        0  ...      717      723      723      731   \n",
       "4        0        0        0  ...       24       25       25       25   \n",
       "\n",
       "   4/25/20  4/26/20  4/27/20  4/28/20  4/29/20  4/30/20  \n",
       "0     1463     1531     1703     1828     1939     2171  \n",
       "1      712      726      736      750      766      773  \n",
       "2     3256     3382     3517     3649     3848     4006  \n",
       "3      738      738      743      743      743      745  \n",
       "4       25       26       27       27       27       27  \n",
       "\n",
       "[5 rows x 102 columns]"
      ]
     },
     "execution_count": 6,
     "metadata": {},
     "output_type": "execute_result"
    }
   ],
   "source": [
    "df.head()"
   ]
  },
  {
   "cell_type": "markdown",
   "metadata": {},
   "source": [
    "### Task 2.3: Aggregating the rows by the country"
   ]
  },
  {
   "cell_type": "code",
   "execution_count": 7,
   "metadata": {},
   "outputs": [],
   "source": [
    "df_aggregated=df.groupby(\"Country/Region\").sum()"
   ]
  },
  {
   "cell_type": "code",
   "execution_count": 8,
   "metadata": {},
   "outputs": [
    {
     "data": {
      "text/html": [
       "<div>\n",
       "<style scoped>\n",
       "    .dataframe tbody tr th:only-of-type {\n",
       "        vertical-align: middle;\n",
       "    }\n",
       "\n",
       "    .dataframe tbody tr th {\n",
       "        vertical-align: top;\n",
       "    }\n",
       "\n",
       "    .dataframe thead th {\n",
       "        text-align: right;\n",
       "    }\n",
       "</style>\n",
       "<table border=\"1\" class=\"dataframe\">\n",
       "  <thead>\n",
       "    <tr style=\"text-align: right;\">\n",
       "      <th></th>\n",
       "      <th>1/22/20</th>\n",
       "      <th>1/23/20</th>\n",
       "      <th>1/24/20</th>\n",
       "      <th>1/25/20</th>\n",
       "      <th>1/26/20</th>\n",
       "      <th>1/27/20</th>\n",
       "      <th>1/28/20</th>\n",
       "      <th>1/29/20</th>\n",
       "      <th>1/30/20</th>\n",
       "      <th>1/31/20</th>\n",
       "      <th>...</th>\n",
       "      <th>4/21/20</th>\n",
       "      <th>4/22/20</th>\n",
       "      <th>4/23/20</th>\n",
       "      <th>4/24/20</th>\n",
       "      <th>4/25/20</th>\n",
       "      <th>4/26/20</th>\n",
       "      <th>4/27/20</th>\n",
       "      <th>4/28/20</th>\n",
       "      <th>4/29/20</th>\n",
       "      <th>4/30/20</th>\n",
       "    </tr>\n",
       "    <tr>\n",
       "      <th>Country/Region</th>\n",
       "      <th></th>\n",
       "      <th></th>\n",
       "      <th></th>\n",
       "      <th></th>\n",
       "      <th></th>\n",
       "      <th></th>\n",
       "      <th></th>\n",
       "      <th></th>\n",
       "      <th></th>\n",
       "      <th></th>\n",
       "      <th></th>\n",
       "      <th></th>\n",
       "      <th></th>\n",
       "      <th></th>\n",
       "      <th></th>\n",
       "      <th></th>\n",
       "      <th></th>\n",
       "      <th></th>\n",
       "      <th></th>\n",
       "      <th></th>\n",
       "      <th></th>\n",
       "    </tr>\n",
       "  </thead>\n",
       "  <tbody>\n",
       "    <tr>\n",
       "      <th>Afghanistan</th>\n",
       "      <td>0</td>\n",
       "      <td>0</td>\n",
       "      <td>0</td>\n",
       "      <td>0</td>\n",
       "      <td>0</td>\n",
       "      <td>0</td>\n",
       "      <td>0</td>\n",
       "      <td>0</td>\n",
       "      <td>0</td>\n",
       "      <td>0</td>\n",
       "      <td>...</td>\n",
       "      <td>1092</td>\n",
       "      <td>1176</td>\n",
       "      <td>1279</td>\n",
       "      <td>1351</td>\n",
       "      <td>1463</td>\n",
       "      <td>1531</td>\n",
       "      <td>1703</td>\n",
       "      <td>1828</td>\n",
       "      <td>1939</td>\n",
       "      <td>2171</td>\n",
       "    </tr>\n",
       "    <tr>\n",
       "      <th>Albania</th>\n",
       "      <td>0</td>\n",
       "      <td>0</td>\n",
       "      <td>0</td>\n",
       "      <td>0</td>\n",
       "      <td>0</td>\n",
       "      <td>0</td>\n",
       "      <td>0</td>\n",
       "      <td>0</td>\n",
       "      <td>0</td>\n",
       "      <td>0</td>\n",
       "      <td>...</td>\n",
       "      <td>609</td>\n",
       "      <td>634</td>\n",
       "      <td>663</td>\n",
       "      <td>678</td>\n",
       "      <td>712</td>\n",
       "      <td>726</td>\n",
       "      <td>736</td>\n",
       "      <td>750</td>\n",
       "      <td>766</td>\n",
       "      <td>773</td>\n",
       "    </tr>\n",
       "    <tr>\n",
       "      <th>Algeria</th>\n",
       "      <td>0</td>\n",
       "      <td>0</td>\n",
       "      <td>0</td>\n",
       "      <td>0</td>\n",
       "      <td>0</td>\n",
       "      <td>0</td>\n",
       "      <td>0</td>\n",
       "      <td>0</td>\n",
       "      <td>0</td>\n",
       "      <td>0</td>\n",
       "      <td>...</td>\n",
       "      <td>2811</td>\n",
       "      <td>2910</td>\n",
       "      <td>3007</td>\n",
       "      <td>3127</td>\n",
       "      <td>3256</td>\n",
       "      <td>3382</td>\n",
       "      <td>3517</td>\n",
       "      <td>3649</td>\n",
       "      <td>3848</td>\n",
       "      <td>4006</td>\n",
       "    </tr>\n",
       "    <tr>\n",
       "      <th>Andorra</th>\n",
       "      <td>0</td>\n",
       "      <td>0</td>\n",
       "      <td>0</td>\n",
       "      <td>0</td>\n",
       "      <td>0</td>\n",
       "      <td>0</td>\n",
       "      <td>0</td>\n",
       "      <td>0</td>\n",
       "      <td>0</td>\n",
       "      <td>0</td>\n",
       "      <td>...</td>\n",
       "      <td>717</td>\n",
       "      <td>723</td>\n",
       "      <td>723</td>\n",
       "      <td>731</td>\n",
       "      <td>738</td>\n",
       "      <td>738</td>\n",
       "      <td>743</td>\n",
       "      <td>743</td>\n",
       "      <td>743</td>\n",
       "      <td>745</td>\n",
       "    </tr>\n",
       "    <tr>\n",
       "      <th>Angola</th>\n",
       "      <td>0</td>\n",
       "      <td>0</td>\n",
       "      <td>0</td>\n",
       "      <td>0</td>\n",
       "      <td>0</td>\n",
       "      <td>0</td>\n",
       "      <td>0</td>\n",
       "      <td>0</td>\n",
       "      <td>0</td>\n",
       "      <td>0</td>\n",
       "      <td>...</td>\n",
       "      <td>24</td>\n",
       "      <td>25</td>\n",
       "      <td>25</td>\n",
       "      <td>25</td>\n",
       "      <td>25</td>\n",
       "      <td>26</td>\n",
       "      <td>27</td>\n",
       "      <td>27</td>\n",
       "      <td>27</td>\n",
       "      <td>27</td>\n",
       "    </tr>\n",
       "    <tr>\n",
       "      <th>...</th>\n",
       "      <td>...</td>\n",
       "      <td>...</td>\n",
       "      <td>...</td>\n",
       "      <td>...</td>\n",
       "      <td>...</td>\n",
       "      <td>...</td>\n",
       "      <td>...</td>\n",
       "      <td>...</td>\n",
       "      <td>...</td>\n",
       "      <td>...</td>\n",
       "      <td>...</td>\n",
       "      <td>...</td>\n",
       "      <td>...</td>\n",
       "      <td>...</td>\n",
       "      <td>...</td>\n",
       "      <td>...</td>\n",
       "      <td>...</td>\n",
       "      <td>...</td>\n",
       "      <td>...</td>\n",
       "      <td>...</td>\n",
       "      <td>...</td>\n",
       "    </tr>\n",
       "    <tr>\n",
       "      <th>West Bank and Gaza</th>\n",
       "      <td>0</td>\n",
       "      <td>0</td>\n",
       "      <td>0</td>\n",
       "      <td>0</td>\n",
       "      <td>0</td>\n",
       "      <td>0</td>\n",
       "      <td>0</td>\n",
       "      <td>0</td>\n",
       "      <td>0</td>\n",
       "      <td>0</td>\n",
       "      <td>...</td>\n",
       "      <td>466</td>\n",
       "      <td>474</td>\n",
       "      <td>480</td>\n",
       "      <td>484</td>\n",
       "      <td>342</td>\n",
       "      <td>342</td>\n",
       "      <td>342</td>\n",
       "      <td>343</td>\n",
       "      <td>344</td>\n",
       "      <td>344</td>\n",
       "    </tr>\n",
       "    <tr>\n",
       "      <th>Western Sahara</th>\n",
       "      <td>0</td>\n",
       "      <td>0</td>\n",
       "      <td>0</td>\n",
       "      <td>0</td>\n",
       "      <td>0</td>\n",
       "      <td>0</td>\n",
       "      <td>0</td>\n",
       "      <td>0</td>\n",
       "      <td>0</td>\n",
       "      <td>0</td>\n",
       "      <td>...</td>\n",
       "      <td>6</td>\n",
       "      <td>6</td>\n",
       "      <td>6</td>\n",
       "      <td>6</td>\n",
       "      <td>6</td>\n",
       "      <td>6</td>\n",
       "      <td>6</td>\n",
       "      <td>6</td>\n",
       "      <td>6</td>\n",
       "      <td>6</td>\n",
       "    </tr>\n",
       "    <tr>\n",
       "      <th>Yemen</th>\n",
       "      <td>0</td>\n",
       "      <td>0</td>\n",
       "      <td>0</td>\n",
       "      <td>0</td>\n",
       "      <td>0</td>\n",
       "      <td>0</td>\n",
       "      <td>0</td>\n",
       "      <td>0</td>\n",
       "      <td>0</td>\n",
       "      <td>0</td>\n",
       "      <td>...</td>\n",
       "      <td>1</td>\n",
       "      <td>1</td>\n",
       "      <td>1</td>\n",
       "      <td>1</td>\n",
       "      <td>1</td>\n",
       "      <td>1</td>\n",
       "      <td>1</td>\n",
       "      <td>1</td>\n",
       "      <td>6</td>\n",
       "      <td>6</td>\n",
       "    </tr>\n",
       "    <tr>\n",
       "      <th>Zambia</th>\n",
       "      <td>0</td>\n",
       "      <td>0</td>\n",
       "      <td>0</td>\n",
       "      <td>0</td>\n",
       "      <td>0</td>\n",
       "      <td>0</td>\n",
       "      <td>0</td>\n",
       "      <td>0</td>\n",
       "      <td>0</td>\n",
       "      <td>0</td>\n",
       "      <td>...</td>\n",
       "      <td>70</td>\n",
       "      <td>74</td>\n",
       "      <td>76</td>\n",
       "      <td>84</td>\n",
       "      <td>84</td>\n",
       "      <td>88</td>\n",
       "      <td>88</td>\n",
       "      <td>95</td>\n",
       "      <td>97</td>\n",
       "      <td>106</td>\n",
       "    </tr>\n",
       "    <tr>\n",
       "      <th>Zimbabwe</th>\n",
       "      <td>0</td>\n",
       "      <td>0</td>\n",
       "      <td>0</td>\n",
       "      <td>0</td>\n",
       "      <td>0</td>\n",
       "      <td>0</td>\n",
       "      <td>0</td>\n",
       "      <td>0</td>\n",
       "      <td>0</td>\n",
       "      <td>0</td>\n",
       "      <td>...</td>\n",
       "      <td>28</td>\n",
       "      <td>28</td>\n",
       "      <td>28</td>\n",
       "      <td>29</td>\n",
       "      <td>31</td>\n",
       "      <td>31</td>\n",
       "      <td>32</td>\n",
       "      <td>32</td>\n",
       "      <td>32</td>\n",
       "      <td>40</td>\n",
       "    </tr>\n",
       "  </tbody>\n",
       "</table>\n",
       "<p>187 rows × 100 columns</p>\n",
       "</div>"
      ],
      "text/plain": [
       "                    1/22/20  1/23/20  1/24/20  1/25/20  1/26/20  1/27/20  \\\n",
       "Country/Region                                                             \n",
       "Afghanistan               0        0        0        0        0        0   \n",
       "Albania                   0        0        0        0        0        0   \n",
       "Algeria                   0        0        0        0        0        0   \n",
       "Andorra                   0        0        0        0        0        0   \n",
       "Angola                    0        0        0        0        0        0   \n",
       "...                     ...      ...      ...      ...      ...      ...   \n",
       "West Bank and Gaza        0        0        0        0        0        0   \n",
       "Western Sahara            0        0        0        0        0        0   \n",
       "Yemen                     0        0        0        0        0        0   \n",
       "Zambia                    0        0        0        0        0        0   \n",
       "Zimbabwe                  0        0        0        0        0        0   \n",
       "\n",
       "                    1/28/20  1/29/20  1/30/20  1/31/20  ...  4/21/20  4/22/20  \\\n",
       "Country/Region                                          ...                     \n",
       "Afghanistan               0        0        0        0  ...     1092     1176   \n",
       "Albania                   0        0        0        0  ...      609      634   \n",
       "Algeria                   0        0        0        0  ...     2811     2910   \n",
       "Andorra                   0        0        0        0  ...      717      723   \n",
       "Angola                    0        0        0        0  ...       24       25   \n",
       "...                     ...      ...      ...      ...  ...      ...      ...   \n",
       "West Bank and Gaza        0        0        0        0  ...      466      474   \n",
       "Western Sahara            0        0        0        0  ...        6        6   \n",
       "Yemen                     0        0        0        0  ...        1        1   \n",
       "Zambia                    0        0        0        0  ...       70       74   \n",
       "Zimbabwe                  0        0        0        0  ...       28       28   \n",
       "\n",
       "                    4/23/20  4/24/20  4/25/20  4/26/20  4/27/20  4/28/20  \\\n",
       "Country/Region                                                             \n",
       "Afghanistan            1279     1351     1463     1531     1703     1828   \n",
       "Albania                 663      678      712      726      736      750   \n",
       "Algeria                3007     3127     3256     3382     3517     3649   \n",
       "Andorra                 723      731      738      738      743      743   \n",
       "Angola                   25       25       25       26       27       27   \n",
       "...                     ...      ...      ...      ...      ...      ...   \n",
       "West Bank and Gaza      480      484      342      342      342      343   \n",
       "Western Sahara            6        6        6        6        6        6   \n",
       "Yemen                     1        1        1        1        1        1   \n",
       "Zambia                   76       84       84       88       88       95   \n",
       "Zimbabwe                 28       29       31       31       32       32   \n",
       "\n",
       "                    4/29/20  4/30/20  \n",
       "Country/Region                        \n",
       "Afghanistan            1939     2171  \n",
       "Albania                 766      773  \n",
       "Algeria                3848     4006  \n",
       "Andorra                 743      745  \n",
       "Angola                   27       27  \n",
       "...                     ...      ...  \n",
       "West Bank and Gaza      344      344  \n",
       "Western Sahara            6        6  \n",
       "Yemen                     6        6  \n",
       "Zambia                   97      106  \n",
       "Zimbabwe                 32       40  \n",
       "\n",
       "[187 rows x 100 columns]"
      ]
     },
     "execution_count": 8,
     "metadata": {},
     "output_type": "execute_result"
    }
   ],
   "source": [
    "df_aggregated"
   ]
  },
  {
   "cell_type": "code",
   "execution_count": 9,
   "metadata": {},
   "outputs": [
    {
     "data": {
      "text/plain": [
       "(187, 100)"
      ]
     },
     "execution_count": 9,
     "metadata": {},
     "output_type": "execute_result"
    }
   ],
   "source": [
    "df_aggregated.shape"
   ]
  },
  {
   "cell_type": "markdown",
   "metadata": {},
   "source": [
    "### Task 2.4: Visualizing data related to a country for example China\n",
    "visualization always helps for better understanding of our data."
   ]
  },
  {
   "cell_type": "code",
   "execution_count": 18,
   "metadata": {},
   "outputs": [
    {
     "data": {
      "image/png": "[encoded data removed]",
      "text/plain": [
       "<Figure size 640x480 with 1 Axes>"
      ]
     },
     "metadata": {},
     "output_type": "display_data"
    }
   ],
   "source": [
    "df_aggregated.loc[\"Western Sahara\"].plot()\n",
    "df_aggregated.loc[\"Italy\"].plot()\n",
    "df_aggregated.loc[\"Spain\"].plot()\n",
    "plt.legend()\n",
    "\n",
    "# Show the plot\n",
    "plt.show()"
   ]
  },
  {
   "cell_type": "code",
   "execution_count": null,
   "metadata": {},
   "outputs": [],
   "source": [
    "# this shows cummulative cases of Covid"
   ]
  },
  {
   "cell_type": "code",
   "execution_count": 17,
   "metadata": {},
   "outputs": [
    {
     "data": {
      "text/plain": [
       "205463"
      ]
     },
     "execution_count": 17,
     "metadata": {},
     "output_type": "execute_result"
    }
   ],
   "source": [
    "df_aggregated.loc['Italy'][99]"
   ]
  },
  {
   "cell_type": "markdown",
   "metadata": {},
   "source": [
    "### Task3: Calculating a good measure \n",
    "we need to find a good measure reperestend as a number, describing the spread of the virus in a country. "
   ]
  },
  {
   "cell_type": "code",
   "execution_count": 10,
   "metadata": {},
   "outputs": [
    {
     "data": {
      "text/plain": [
       "<AxesSubplot: >"
      ]
     },
     "execution_count": 10,
     "metadata": {},
     "output_type": "execute_result"
    },
    {
     "data": {
      "image/png": "[encoded data removed]",
      "text/plain": [
       "<Figure size 640x480 with 1 Axes>"
      ]
     },
     "metadata": {},
     "output_type": "display_data"
    }
   ],
   "source": [
    "df_aggregated.loc['China'].plot()"
   ]
  },
  {
   "cell_type": "code",
   "execution_count": 11,
   "metadata": {},
   "outputs": [
    {
     "data": {
      "text/plain": [
       "<AxesSubplot: >"
      ]
     },
     "execution_count": 11,
     "metadata": {},
     "output_type": "execute_result"
    },
    {
     "data": {
      "image/png": "[encoded data removed]",
      "text/plain": [
       "<Figure size 640x480 with 1 Axes>"
      ]
     },
     "metadata": {},
     "output_type": "display_data"
    }
   ],
   "source": [
    "df_aggregated.loc['China'][:3].plot()"
   ]
  },
  {
   "cell_type": "markdown",
   "metadata": {},
   "source": [
    "### task 3.1: caculating the first derivative of the curve"
   ]
  },
  {
   "cell_type": "code",
   "execution_count": 12,
   "metadata": {},
   "outputs": [
    {
     "data": {
      "text/plain": [
       "<AxesSubplot: >"
      ]
     },
     "execution_count": 12,
     "metadata": {},
     "output_type": "execute_result"
    },
    {
     "data": {
      "image/png": "[encoded data removed]",
      "text/plain": [
       "<Figure size 640x480 with 1 Axes>"
      ]
     },
     "metadata": {},
     "output_type": "display_data"
    }
   ],
   "source": [
    "df_aggregated.loc['China'].diff().plot()"
   ]
  },
  {
   "cell_type": "markdown",
   "metadata": {},
   "source": [
    "### task 3.2: find maxmimum infection rate for China"
   ]
  },
  {
   "cell_type": "code",
   "execution_count": 20,
   "metadata": {},
   "outputs": [
    {
     "data": {
      "text/plain": [
       "15136.0"
      ]
     },
     "execution_count": 20,
     "metadata": {},
     "output_type": "execute_result"
    }
   ],
   "source": [
    "df_aggregated.loc['China'].diff().max()"
   ]
  },
  {
   "cell_type": "code",
   "execution_count": 21,
   "metadata": {},
   "outputs": [
    {
     "data": {
      "text/plain": [
       "6557.0"
      ]
     },
     "execution_count": 21,
     "metadata": {},
     "output_type": "execute_result"
    }
   ],
   "source": [
    "df_aggregated.loc['Italy'].diff().max()"
   ]
  },
  {
   "cell_type": "code",
   "execution_count": 22,
   "metadata": {},
   "outputs": [
    {
     "data": {
      "text/plain": [
       "9630.0"
      ]
     },
     "execution_count": 22,
     "metadata": {},
     "output_type": "execute_result"
    }
   ],
   "source": [
    "df_aggregated.loc['Spain'].diff().max()"
   ]
  },
  {
   "cell_type": "markdown",
   "metadata": {},
   "source": [
    "### Task 3.3: find maximum infection rate for all of the countries. "
   ]
  },
  {
   "cell_type": "code",
   "execution_count": 23,
   "metadata": {},
   "outputs": [
    {
     "data": {
      "text/plain": [
       "[232.0,\n",
       " 34.0,\n",
       " 199.0,\n",
       " 43.0,\n",
       " 5.0,\n",
       " 6.0,\n",
       " 291.0,\n",
       " 134.0,\n",
       " 497.0,\n",
       " 1321.0,\n",
       " 105.0,\n",
       " 7.0,\n",
       " 301.0,\n",
       " 641.0,\n",
       " 12.0,\n",
       " 1485.0,\n",
       " 2454.0,\n",
       " 4.0,\n",
       " 19.0,\n",
       " 1.0,\n",
       " 104.0,\n",
       " 92.0,\n",
       " 7.0,\n",
       " 7502.0,\n",
       " 26.0,\n",
       " 137.0,\n",
       " 41.0,\n",
       " 21.0,\n",
       " 6.0,\n",
       " 45.0,\n",
       " 31.0,\n",
       " 203.0,\n",
       " 2778.0,\n",
       " 31.0,\n",
       " 21.0,\n",
       " 1138.0,\n",
       " 15136.0,\n",
       " 353.0,\n",
       " 1.0,\n",
       " 57.0,\n",
       " 81.0,\n",
       " 37.0,\n",
       " 113.0,\n",
       " 96.0,\n",
       " 63.0,\n",
       " 58.0,\n",
       " 381.0,\n",
       " 391.0,\n",
       " 99.0,\n",
       " 156.0,\n",
       " 5.0,\n",
       " 371.0,\n",
       " 11536.0,\n",
       " 269.0,\n",
       " 32.0,\n",
       " 130.0,\n",
       " 7.0,\n",
       " 134.0,\n",
       " 20.0,\n",
       " 9.0,\n",
       " 5.0,\n",
       " 267.0,\n",
       " 26849.0,\n",
       " 38.0,\n",
       " 5.0,\n",
       " 42.0,\n",
       " 6933.0,\n",
       " 403.0,\n",
       " 156.0,\n",
       " 6.0,\n",
       " 68.0,\n",
       " 167.0,\n",
       " 132.0,\n",
       " 12.0,\n",
       " 10.0,\n",
       " 3.0,\n",
       " 72.0,\n",
       " 210.0,\n",
       " 99.0,\n",
       " 1893.0,\n",
       " 436.0,\n",
       " 3186.0,\n",
       " 91.0,\n",
       " 1515.0,\n",
       " 1131.0,\n",
       " 6557.0,\n",
       " 52.0,\n",
       " 1161.0,\n",
       " 40.0,\n",
       " 264.0,\n",
       " 29.0,\n",
       " 851.0,\n",
       " 289.0,\n",
       " 300.0,\n",
       " 69.0,\n",
       " 3.0,\n",
       " 48.0,\n",
       " 61.0,\n",
       " 17.0,\n",
       " 13.0,\n",
       " 21.0,\n",
       " 90.0,\n",
       " 234.0,\n",
       " 7.0,\n",
       " 14.0,\n",
       " 10.0,\n",
       " 235.0,\n",
       " 190.0,\n",
       " 58.0,\n",
       " 52.0,\n",
       " 2.0,\n",
       " 41.0,\n",
       " 1425.0,\n",
       " 222.0,\n",
       " 12.0,\n",
       " 13.0,\n",
       " 30.0,\n",
       " 281.0,\n",
       " 19.0,\n",
       " 3.0,\n",
       " 14.0,\n",
       " 1346.0,\n",
       " 89.0,\n",
       " 2.0,\n",
       " 69.0,\n",
       " 208.0,\n",
       " 107.0,\n",
       " 386.0,\n",
       " 144.0,\n",
       " 1292.0,\n",
       " 357.0,\n",
       " 5.0,\n",
       " 27.0,\n",
       " 3683.0,\n",
       " 538.0,\n",
       " 545.0,\n",
       " 1516.0,\n",
       " 957.0,\n",
       " 523.0,\n",
       " 7099.0,\n",
       " 22.0,\n",
       " 5.0,\n",
       " 6.0,\n",
       " 4.0,\n",
       " 54.0,\n",
       " 6.0,\n",
       " 1351.0,\n",
       " 87.0,\n",
       " 2379.0,\n",
       " 2.0,\n",
       " 20.0,\n",
       " 1426.0,\n",
       " 114.0,\n",
       " 70.0,\n",
       " 73.0,\n",
       " 354.0,\n",
       " 28.0,\n",
       " 9630.0,\n",
       " 65.0,\n",
       " 67.0,\n",
       " 3.0,\n",
       " 812.0,\n",
       " 1321.0,\n",
       " 6.0,\n",
       " 27.0,\n",
       " 15.0,\n",
       " 181.0,\n",
       " 188.0,\n",
       " 10.0,\n",
       " 14.0,\n",
       " 40.0,\n",
       " 82.0,\n",
       " 5138.0,\n",
       " 36188.0,\n",
       " 11.0,\n",
       " 578.0,\n",
       " 552.0,\n",
       " 8733.0,\n",
       " 48.0,\n",
       " 167.0,\n",
       " 29.0,\n",
       " 19.0,\n",
       " 66.0,\n",
       " 4.0,\n",
       " 5.0,\n",
       " 9.0,\n",
       " 8.0]"
      ]
     },
     "execution_count": 23,
     "metadata": {},
     "output_type": "execute_result"
    }
   ],
   "source": [
    "countries=list(df_aggregated.index)\n",
    "max_infection_rate =[]\n",
    "for i in countries:\n",
    "    max_infection_rate.append(df_aggregated.loc[i].diff().max())\n",
    "max_infection_rate"
   ]
  },
  {
   "cell_type": "code",
   "execution_count": 25,
   "metadata": {},
   "outputs": [
    {
     "data": {
      "text/html": [
       "<div>\n",
       "<style scoped>\n",
       "    .dataframe tbody tr th:only-of-type {\n",
       "        vertical-align: middle;\n",
       "    }\n",
       "\n",
       "    .dataframe tbody tr th {\n",
       "        vertical-align: top;\n",
       "    }\n",
       "\n",
       "    .dataframe thead th {\n",
       "        text-align: right;\n",
       "    }\n",
       "</style>\n",
       "<table border=\"1\" class=\"dataframe\">\n",
       "  <thead>\n",
       "    <tr style=\"text-align: right;\">\n",
       "      <th></th>\n",
       "      <th>1/22/20</th>\n",
       "      <th>1/23/20</th>\n",
       "      <th>1/24/20</th>\n",
       "      <th>1/25/20</th>\n",
       "      <th>1/26/20</th>\n",
       "      <th>1/27/20</th>\n",
       "      <th>1/28/20</th>\n",
       "      <th>1/29/20</th>\n",
       "      <th>1/30/20</th>\n",
       "      <th>1/31/20</th>\n",
       "      <th>...</th>\n",
       "      <th>4/22/20</th>\n",
       "      <th>4/23/20</th>\n",
       "      <th>4/24/20</th>\n",
       "      <th>4/25/20</th>\n",
       "      <th>4/26/20</th>\n",
       "      <th>4/27/20</th>\n",
       "      <th>4/28/20</th>\n",
       "      <th>4/29/20</th>\n",
       "      <th>4/30/20</th>\n",
       "      <th>max_infection_rate</th>\n",
       "    </tr>\n",
       "    <tr>\n",
       "      <th>Country/Region</th>\n",
       "      <th></th>\n",
       "      <th></th>\n",
       "      <th></th>\n",
       "      <th></th>\n",
       "      <th></th>\n",
       "      <th></th>\n",
       "      <th></th>\n",
       "      <th></th>\n",
       "      <th></th>\n",
       "      <th></th>\n",
       "      <th></th>\n",
       "      <th></th>\n",
       "      <th></th>\n",
       "      <th></th>\n",
       "      <th></th>\n",
       "      <th></th>\n",
       "      <th></th>\n",
       "      <th></th>\n",
       "      <th></th>\n",
       "      <th></th>\n",
       "      <th></th>\n",
       "    </tr>\n",
       "  </thead>\n",
       "  <tbody>\n",
       "    <tr>\n",
       "      <th>Afghanistan</th>\n",
       "      <td>0</td>\n",
       "      <td>0</td>\n",
       "      <td>0</td>\n",
       "      <td>0</td>\n",
       "      <td>0</td>\n",
       "      <td>0</td>\n",
       "      <td>0</td>\n",
       "      <td>0</td>\n",
       "      <td>0</td>\n",
       "      <td>0</td>\n",
       "      <td>...</td>\n",
       "      <td>1176</td>\n",
       "      <td>1279</td>\n",
       "      <td>1351</td>\n",
       "      <td>1463</td>\n",
       "      <td>1531</td>\n",
       "      <td>1703</td>\n",
       "      <td>1828</td>\n",
       "      <td>1939</td>\n",
       "      <td>2171</td>\n",
       "      <td>232.0</td>\n",
       "    </tr>\n",
       "    <tr>\n",
       "      <th>Albania</th>\n",
       "      <td>0</td>\n",
       "      <td>0</td>\n",
       "      <td>0</td>\n",
       "      <td>0</td>\n",
       "      <td>0</td>\n",
       "      <td>0</td>\n",
       "      <td>0</td>\n",
       "      <td>0</td>\n",
       "      <td>0</td>\n",
       "      <td>0</td>\n",
       "      <td>...</td>\n",
       "      <td>634</td>\n",
       "      <td>663</td>\n",
       "      <td>678</td>\n",
       "      <td>712</td>\n",
       "      <td>726</td>\n",
       "      <td>736</td>\n",
       "      <td>750</td>\n",
       "      <td>766</td>\n",
       "      <td>773</td>\n",
       "      <td>34.0</td>\n",
       "    </tr>\n",
       "    <tr>\n",
       "      <th>Algeria</th>\n",
       "      <td>0</td>\n",
       "      <td>0</td>\n",
       "      <td>0</td>\n",
       "      <td>0</td>\n",
       "      <td>0</td>\n",
       "      <td>0</td>\n",
       "      <td>0</td>\n",
       "      <td>0</td>\n",
       "      <td>0</td>\n",
       "      <td>0</td>\n",
       "      <td>...</td>\n",
       "      <td>2910</td>\n",
       "      <td>3007</td>\n",
       "      <td>3127</td>\n",
       "      <td>3256</td>\n",
       "      <td>3382</td>\n",
       "      <td>3517</td>\n",
       "      <td>3649</td>\n",
       "      <td>3848</td>\n",
       "      <td>4006</td>\n",
       "      <td>199.0</td>\n",
       "    </tr>\n",
       "    <tr>\n",
       "      <th>Andorra</th>\n",
       "      <td>0</td>\n",
       "      <td>0</td>\n",
       "      <td>0</td>\n",
       "      <td>0</td>\n",
       "      <td>0</td>\n",
       "      <td>0</td>\n",
       "      <td>0</td>\n",
       "      <td>0</td>\n",
       "      <td>0</td>\n",
       "      <td>0</td>\n",
       "      <td>...</td>\n",
       "      <td>723</td>\n",
       "      <td>723</td>\n",
       "      <td>731</td>\n",
       "      <td>738</td>\n",
       "      <td>738</td>\n",
       "      <td>743</td>\n",
       "      <td>743</td>\n",
       "      <td>743</td>\n",
       "      <td>745</td>\n",
       "      <td>43.0</td>\n",
       "    </tr>\n",
       "    <tr>\n",
       "      <th>Angola</th>\n",
       "      <td>0</td>\n",
       "      <td>0</td>\n",
       "      <td>0</td>\n",
       "      <td>0</td>\n",
       "      <td>0</td>\n",
       "      <td>0</td>\n",
       "      <td>0</td>\n",
       "      <td>0</td>\n",
       "      <td>0</td>\n",
       "      <td>0</td>\n",
       "      <td>...</td>\n",
       "      <td>25</td>\n",
       "      <td>25</td>\n",
       "      <td>25</td>\n",
       "      <td>25</td>\n",
       "      <td>26</td>\n",
       "      <td>27</td>\n",
       "      <td>27</td>\n",
       "      <td>27</td>\n",
       "      <td>27</td>\n",
       "      <td>5.0</td>\n",
       "    </tr>\n",
       "    <tr>\n",
       "      <th>...</th>\n",
       "      <td>...</td>\n",
       "      <td>...</td>\n",
       "      <td>...</td>\n",
       "      <td>...</td>\n",
       "      <td>...</td>\n",
       "      <td>...</td>\n",
       "      <td>...</td>\n",
       "      <td>...</td>\n",
       "      <td>...</td>\n",
       "      <td>...</td>\n",
       "      <td>...</td>\n",
       "      <td>...</td>\n",
       "      <td>...</td>\n",
       "      <td>...</td>\n",
       "      <td>...</td>\n",
       "      <td>...</td>\n",
       "      <td>...</td>\n",
       "      <td>...</td>\n",
       "      <td>...</td>\n",
       "      <td>...</td>\n",
       "      <td>...</td>\n",
       "    </tr>\n",
       "    <tr>\n",
       "      <th>West Bank and Gaza</th>\n",
       "      <td>0</td>\n",
       "      <td>0</td>\n",
       "      <td>0</td>\n",
       "      <td>0</td>\n",
       "      <td>0</td>\n",
       "      <td>0</td>\n",
       "      <td>0</td>\n",
       "      <td>0</td>\n",
       "      <td>0</td>\n",
       "      <td>0</td>\n",
       "      <td>...</td>\n",
       "      <td>474</td>\n",
       "      <td>480</td>\n",
       "      <td>484</td>\n",
       "      <td>342</td>\n",
       "      <td>342</td>\n",
       "      <td>342</td>\n",
       "      <td>343</td>\n",
       "      <td>344</td>\n",
       "      <td>344</td>\n",
       "      <td>66.0</td>\n",
       "    </tr>\n",
       "    <tr>\n",
       "      <th>Western Sahara</th>\n",
       "      <td>0</td>\n",
       "      <td>0</td>\n",
       "      <td>0</td>\n",
       "      <td>0</td>\n",
       "      <td>0</td>\n",
       "      <td>0</td>\n",
       "      <td>0</td>\n",
       "      <td>0</td>\n",
       "      <td>0</td>\n",
       "      <td>0</td>\n",
       "      <td>...</td>\n",
       "      <td>6</td>\n",
       "      <td>6</td>\n",
       "      <td>6</td>\n",
       "      <td>6</td>\n",
       "      <td>6</td>\n",
       "      <td>6</td>\n",
       "      <td>6</td>\n",
       "      <td>6</td>\n",
       "      <td>6</td>\n",
       "      <td>4.0</td>\n",
       "    </tr>\n",
       "    <tr>\n",
       "      <th>Yemen</th>\n",
       "      <td>0</td>\n",
       "      <td>0</td>\n",
       "      <td>0</td>\n",
       "      <td>0</td>\n",
       "      <td>0</td>\n",
       "      <td>0</td>\n",
       "      <td>0</td>\n",
       "      <td>0</td>\n",
       "      <td>0</td>\n",
       "      <td>0</td>\n",
       "      <td>...</td>\n",
       "      <td>1</td>\n",
       "      <td>1</td>\n",
       "      <td>1</td>\n",
       "      <td>1</td>\n",
       "      <td>1</td>\n",
       "      <td>1</td>\n",
       "      <td>1</td>\n",
       "      <td>6</td>\n",
       "      <td>6</td>\n",
       "      <td>5.0</td>\n",
       "    </tr>\n",
       "    <tr>\n",
       "      <th>Zambia</th>\n",
       "      <td>0</td>\n",
       "      <td>0</td>\n",
       "      <td>0</td>\n",
       "      <td>0</td>\n",
       "      <td>0</td>\n",
       "      <td>0</td>\n",
       "      <td>0</td>\n",
       "      <td>0</td>\n",
       "      <td>0</td>\n",
       "      <td>0</td>\n",
       "      <td>...</td>\n",
       "      <td>74</td>\n",
       "      <td>76</td>\n",
       "      <td>84</td>\n",
       "      <td>84</td>\n",
       "      <td>88</td>\n",
       "      <td>88</td>\n",
       "      <td>95</td>\n",
       "      <td>97</td>\n",
       "      <td>106</td>\n",
       "      <td>9.0</td>\n",
       "    </tr>\n",
       "    <tr>\n",
       "      <th>Zimbabwe</th>\n",
       "      <td>0</td>\n",
       "      <td>0</td>\n",
       "      <td>0</td>\n",
       "      <td>0</td>\n",
       "      <td>0</td>\n",
       "      <td>0</td>\n",
       "      <td>0</td>\n",
       "      <td>0</td>\n",
       "      <td>0</td>\n",
       "      <td>0</td>\n",
       "      <td>...</td>\n",
       "      <td>28</td>\n",
       "      <td>28</td>\n",
       "      <td>29</td>\n",
       "      <td>31</td>\n",
       "      <td>31</td>\n",
       "      <td>32</td>\n",
       "      <td>32</td>\n",
       "      <td>32</td>\n",
       "      <td>40</td>\n",
       "      <td>8.0</td>\n",
       "    </tr>\n",
       "  </tbody>\n",
       "</table>\n",
       "<p>187 rows × 101 columns</p>\n",
       "</div>"
      ],
      "text/plain": [
       "                    1/22/20  1/23/20  1/24/20  1/25/20  1/26/20  1/27/20  \\\n",
       "Country/Region                                                             \n",
       "Afghanistan               0        0        0        0        0        0   \n",
       "Albania                   0        0        0        0        0        0   \n",
       "Algeria                   0        0        0        0        0        0   \n",
       "Andorra                   0        0        0        0        0        0   \n",
       "Angola                    0        0        0        0        0        0   \n",
       "...                     ...      ...      ...      ...      ...      ...   \n",
       "West Bank and Gaza        0        0        0        0        0        0   \n",
       "Western Sahara            0        0        0        0        0        0   \n",
       "Yemen                     0        0        0        0        0        0   \n",
       "Zambia                    0        0        0        0        0        0   \n",
       "Zimbabwe                  0        0        0        0        0        0   \n",
       "\n",
       "                    1/28/20  1/29/20  1/30/20  1/31/20  ...  4/22/20  4/23/20  \\\n",
       "Country/Region                                          ...                     \n",
       "Afghanistan               0        0        0        0  ...     1176     1279   \n",
       "Albania                   0        0        0        0  ...      634      663   \n",
       "Algeria                   0        0        0        0  ...     2910     3007   \n",
       "Andorra                   0        0        0        0  ...      723      723   \n",
       "Angola                    0        0        0        0  ...       25       25   \n",
       "...                     ...      ...      ...      ...  ...      ...      ...   \n",
       "West Bank and Gaza        0        0        0        0  ...      474      480   \n",
       "Western Sahara            0        0        0        0  ...        6        6   \n",
       "Yemen                     0        0        0        0  ...        1        1   \n",
       "Zambia                    0        0        0        0  ...       74       76   \n",
       "Zimbabwe                  0        0        0        0  ...       28       28   \n",
       "\n",
       "                    4/24/20  4/25/20  4/26/20  4/27/20  4/28/20  4/29/20  \\\n",
       "Country/Region                                                             \n",
       "Afghanistan            1351     1463     1531     1703     1828     1939   \n",
       "Albania                 678      712      726      736      750      766   \n",
       "Algeria                3127     3256     3382     3517     3649     3848   \n",
       "Andorra                 731      738      738      743      743      743   \n",
       "Angola                   25       25       26       27       27       27   \n",
       "...                     ...      ...      ...      ...      ...      ...   \n",
       "West Bank and Gaza      484      342      342      342      343      344   \n",
       "Western Sahara            6        6        6        6        6        6   \n",
       "Yemen                     1        1        1        1        1        6   \n",
       "Zambia                   84       84       88       88       95       97   \n",
       "Zimbabwe                 29       31       31       32       32       32   \n",
       "\n",
       "                    4/30/20  max_infection_rate  \n",
       "Country/Region                                   \n",
       "Afghanistan            2171               232.0  \n",
       "Albania                 773                34.0  \n",
       "Algeria                4006               199.0  \n",
       "Andorra                 745                43.0  \n",
       "Angola                   27                 5.0  \n",
       "...                     ...                 ...  \n",
       "West Bank and Gaza      344                66.0  \n",
       "Western Sahara            6                 4.0  \n",
       "Yemen                     6                 5.0  \n",
       "Zambia                  106                 9.0  \n",
       "Zimbabwe                 40                 8.0  \n",
       "\n",
       "[187 rows x 101 columns]"
      ]
     },
     "execution_count": 25,
     "metadata": {},
     "output_type": "execute_result"
    }
   ],
   "source": [
    "df_aggregated['max_infection_rate']=max_infection_rate\n",
    "df_aggregated"
   ]
  },
  {
   "cell_type": "markdown",
   "metadata": {},
   "source": [
    "### Task 3.4: create a new dataframe with only needed column "
   ]
  },
  {
   "cell_type": "code",
   "execution_count": 26,
   "metadata": {},
   "outputs": [],
   "source": [
    "corona_data=pd.DataFrame(df_aggregated[\"max_infection_rate\"])"
   ]
  },
  {
   "cell_type": "code",
   "execution_count": 27,
   "metadata": {},
   "outputs": [
    {
     "data": {
      "text/html": [
       "<div>\n",
       "<style scoped>\n",
       "    .dataframe tbody tr th:only-of-type {\n",
       "        vertical-align: middle;\n",
       "    }\n",
       "\n",
       "    .dataframe tbody tr th {\n",
       "        vertical-align: top;\n",
       "    }\n",
       "\n",
       "    .dataframe thead th {\n",
       "        text-align: right;\n",
       "    }\n",
       "</style>\n",
       "<table border=\"1\" class=\"dataframe\">\n",
       "  <thead>\n",
       "    <tr style=\"text-align: right;\">\n",
       "      <th></th>\n",
       "      <th>max_infection_rate</th>\n",
       "    </tr>\n",
       "    <tr>\n",
       "      <th>Country/Region</th>\n",
       "      <th></th>\n",
       "    </tr>\n",
       "  </thead>\n",
       "  <tbody>\n",
       "    <tr>\n",
       "      <th>Afghanistan</th>\n",
       "      <td>232.0</td>\n",
       "    </tr>\n",
       "    <tr>\n",
       "      <th>Albania</th>\n",
       "      <td>34.0</td>\n",
       "    </tr>\n",
       "    <tr>\n",
       "      <th>Algeria</th>\n",
       "      <td>199.0</td>\n",
       "    </tr>\n",
       "    <tr>\n",
       "      <th>Andorra</th>\n",
       "      <td>43.0</td>\n",
       "    </tr>\n",
       "    <tr>\n",
       "      <th>Angola</th>\n",
       "      <td>5.0</td>\n",
       "    </tr>\n",
       "    <tr>\n",
       "      <th>Antigua and Barbuda</th>\n",
       "      <td>6.0</td>\n",
       "    </tr>\n",
       "    <tr>\n",
       "      <th>Argentina</th>\n",
       "      <td>291.0</td>\n",
       "    </tr>\n",
       "    <tr>\n",
       "      <th>Armenia</th>\n",
       "      <td>134.0</td>\n",
       "    </tr>\n",
       "    <tr>\n",
       "      <th>Australia</th>\n",
       "      <td>497.0</td>\n",
       "    </tr>\n",
       "    <tr>\n",
       "      <th>Austria</th>\n",
       "      <td>1321.0</td>\n",
       "    </tr>\n",
       "  </tbody>\n",
       "</table>\n",
       "</div>"
      ],
      "text/plain": [
       "                     max_infection_rate\n",
       "Country/Region                         \n",
       "Afghanistan                       232.0\n",
       "Albania                            34.0\n",
       "Algeria                           199.0\n",
       "Andorra                            43.0\n",
       "Angola                              5.0\n",
       "Antigua and Barbuda                 6.0\n",
       "Argentina                         291.0\n",
       "Armenia                           134.0\n",
       "Australia                         497.0\n",
       "Austria                          1321.0"
      ]
     },
     "execution_count": 27,
     "metadata": {},
     "output_type": "execute_result"
    }
   ],
   "source": [
    "corona_data.head(10)"
   ]
  },
  {
   "cell_type": "markdown",
   "metadata": {},
   "source": [
    "### Task4: \n",
    "- Importing the WorldHappinessReport.csv dataset\n",
    "- selecting needed columns for our analysis \n",
    "- join the datasets \n",
    "- calculate the correlations as the result of our analysis"
   ]
  },
  {
   "cell_type": "markdown",
   "metadata": {},
   "source": [
    "### Task 4.1 : importing the dataset"
   ]
  },
  {
   "cell_type": "code",
   "execution_count": 34,
   "metadata": {},
   "outputs": [],
   "source": [
    "df2=pd.read_csv(\"Datasets/worldwide_happiness_report.csv\")"
   ]
  },
  {
   "cell_type": "code",
   "execution_count": 35,
   "metadata": {},
   "outputs": [
    {
     "data": {
      "text/html": [
       "<div>\n",
       "<style scoped>\n",
       "    .dataframe tbody tr th:only-of-type {\n",
       "        vertical-align: middle;\n",
       "    }\n",
       "\n",
       "    .dataframe tbody tr th {\n",
       "        vertical-align: top;\n",
       "    }\n",
       "\n",
       "    .dataframe thead th {\n",
       "        text-align: right;\n",
       "    }\n",
       "</style>\n",
       "<table border=\"1\" class=\"dataframe\">\n",
       "  <thead>\n",
       "    <tr style=\"text-align: right;\">\n",
       "      <th></th>\n",
       "      <th>Overall rank</th>\n",
       "      <th>Country or region</th>\n",
       "      <th>Score</th>\n",
       "      <th>GDP per capita</th>\n",
       "      <th>Social support</th>\n",
       "      <th>Healthy life expectancy</th>\n",
       "      <th>Freedom to make life choices</th>\n",
       "      <th>Generosity</th>\n",
       "      <th>Perceptions of corruption</th>\n",
       "    </tr>\n",
       "  </thead>\n",
       "  <tbody>\n",
       "    <tr>\n",
       "      <th>0</th>\n",
       "      <td>1</td>\n",
       "      <td>Finland</td>\n",
       "      <td>7.769</td>\n",
       "      <td>1.340</td>\n",
       "      <td>1.587</td>\n",
       "      <td>0.986</td>\n",
       "      <td>0.596</td>\n",
       "      <td>0.153</td>\n",
       "      <td>0.393</td>\n",
       "    </tr>\n",
       "    <tr>\n",
       "      <th>1</th>\n",
       "      <td>2</td>\n",
       "      <td>Denmark</td>\n",
       "      <td>7.600</td>\n",
       "      <td>1.383</td>\n",
       "      <td>1.573</td>\n",
       "      <td>0.996</td>\n",
       "      <td>0.592</td>\n",
       "      <td>0.252</td>\n",
       "      <td>0.410</td>\n",
       "    </tr>\n",
       "    <tr>\n",
       "      <th>2</th>\n",
       "      <td>3</td>\n",
       "      <td>Norway</td>\n",
       "      <td>7.554</td>\n",
       "      <td>1.488</td>\n",
       "      <td>1.582</td>\n",
       "      <td>1.028</td>\n",
       "      <td>0.603</td>\n",
       "      <td>0.271</td>\n",
       "      <td>0.341</td>\n",
       "    </tr>\n",
       "    <tr>\n",
       "      <th>3</th>\n",
       "      <td>4</td>\n",
       "      <td>Iceland</td>\n",
       "      <td>7.494</td>\n",
       "      <td>1.380</td>\n",
       "      <td>1.624</td>\n",
       "      <td>1.026</td>\n",
       "      <td>0.591</td>\n",
       "      <td>0.354</td>\n",
       "      <td>0.118</td>\n",
       "    </tr>\n",
       "    <tr>\n",
       "      <th>4</th>\n",
       "      <td>5</td>\n",
       "      <td>Netherlands</td>\n",
       "      <td>7.488</td>\n",
       "      <td>1.396</td>\n",
       "      <td>1.522</td>\n",
       "      <td>0.999</td>\n",
       "      <td>0.557</td>\n",
       "      <td>0.322</td>\n",
       "      <td>0.298</td>\n",
       "    </tr>\n",
       "  </tbody>\n",
       "</table>\n",
       "</div>"
      ],
      "text/plain": [
       "   Overall rank Country or region  Score  GDP per capita  Social support  \\\n",
       "0             1           Finland  7.769           1.340           1.587   \n",
       "1             2           Denmark  7.600           1.383           1.573   \n",
       "2             3            Norway  7.554           1.488           1.582   \n",
       "3             4           Iceland  7.494           1.380           1.624   \n",
       "4             5       Netherlands  7.488           1.396           1.522   \n",
       "\n",
       "   Healthy life expectancy  Freedom to make life choices  Generosity  \\\n",
       "0                    0.986                         0.596       0.153   \n",
       "1                    0.996                         0.592       0.252   \n",
       "2                    1.028                         0.603       0.271   \n",
       "3                    1.026                         0.591       0.354   \n",
       "4                    0.999                         0.557       0.322   \n",
       "\n",
       "   Perceptions of corruption  \n",
       "0                      0.393  \n",
       "1                      0.410  \n",
       "2                      0.341  \n",
       "3                      0.118  \n",
       "4                      0.298  "
      ]
     },
     "execution_count": 35,
     "metadata": {},
     "output_type": "execute_result"
    }
   ],
   "source": [
    "df2.head()"
   ]
  },
  {
   "cell_type": "markdown",
   "metadata": {},
   "source": [
    "### Task 4.2: let's drop the useless columns "
   ]
  },
  {
   "cell_type": "code",
   "execution_count": 36,
   "metadata": {},
   "outputs": [],
   "source": [
    "df2.drop(columns=[\"Overall rank\",\"Generosity\",\"Perceptions of corruption\",\"Score\"],inplace=True)\n"
   ]
  },
  {
   "cell_type": "code",
   "execution_count": 37,
   "metadata": {},
   "outputs": [
    {
     "data": {
      "text/html": [
       "<div>\n",
       "<style scoped>\n",
       "    .dataframe tbody tr th:only-of-type {\n",
       "        vertical-align: middle;\n",
       "    }\n",
       "\n",
       "    .dataframe tbody tr th {\n",
       "        vertical-align: top;\n",
       "    }\n",
       "\n",
       "    .dataframe thead th {\n",
       "        text-align: right;\n",
       "    }\n",
       "</style>\n",
       "<table border=\"1\" class=\"dataframe\">\n",
       "  <thead>\n",
       "    <tr style=\"text-align: right;\">\n",
       "      <th></th>\n",
       "      <th>Country or region</th>\n",
       "      <th>GDP per capita</th>\n",
       "      <th>Social support</th>\n",
       "      <th>Healthy life expectancy</th>\n",
       "      <th>Freedom to make life choices</th>\n",
       "    </tr>\n",
       "  </thead>\n",
       "  <tbody>\n",
       "    <tr>\n",
       "      <th>0</th>\n",
       "      <td>Finland</td>\n",
       "      <td>1.340</td>\n",
       "      <td>1.587</td>\n",
       "      <td>0.986</td>\n",
       "      <td>0.596</td>\n",
       "    </tr>\n",
       "    <tr>\n",
       "      <th>1</th>\n",
       "      <td>Denmark</td>\n",
       "      <td>1.383</td>\n",
       "      <td>1.573</td>\n",
       "      <td>0.996</td>\n",
       "      <td>0.592</td>\n",
       "    </tr>\n",
       "    <tr>\n",
       "      <th>2</th>\n",
       "      <td>Norway</td>\n",
       "      <td>1.488</td>\n",
       "      <td>1.582</td>\n",
       "      <td>1.028</td>\n",
       "      <td>0.603</td>\n",
       "    </tr>\n",
       "    <tr>\n",
       "      <th>3</th>\n",
       "      <td>Iceland</td>\n",
       "      <td>1.380</td>\n",
       "      <td>1.624</td>\n",
       "      <td>1.026</td>\n",
       "      <td>0.591</td>\n",
       "    </tr>\n",
       "    <tr>\n",
       "      <th>4</th>\n",
       "      <td>Netherlands</td>\n",
       "      <td>1.396</td>\n",
       "      <td>1.522</td>\n",
       "      <td>0.999</td>\n",
       "      <td>0.557</td>\n",
       "    </tr>\n",
       "  </tbody>\n",
       "</table>\n",
       "</div>"
      ],
      "text/plain": [
       "  Country or region  GDP per capita  Social support  Healthy life expectancy  \\\n",
       "0           Finland           1.340           1.587                    0.986   \n",
       "1           Denmark           1.383           1.573                    0.996   \n",
       "2            Norway           1.488           1.582                    1.028   \n",
       "3           Iceland           1.380           1.624                    1.026   \n",
       "4       Netherlands           1.396           1.522                    0.999   \n",
       "\n",
       "   Freedom to make life choices  \n",
       "0                         0.596  \n",
       "1                         0.592  \n",
       "2                         0.603  \n",
       "3                         0.591  \n",
       "4                         0.557  "
      ]
     },
     "execution_count": 37,
     "metadata": {},
     "output_type": "execute_result"
    }
   ],
   "source": [
    "df2.head()"
   ]
  },
  {
   "cell_type": "markdown",
   "metadata": {},
   "source": [
    "### Task 4.3: changing the indices of the dataframe"
   ]
  },
  {
   "cell_type": "code",
   "execution_count": 38,
   "metadata": {},
   "outputs": [],
   "source": [
    "df2.set_index(\"Country or region\",inplace=True)"
   ]
  },
  {
   "cell_type": "code",
   "execution_count": 39,
   "metadata": {},
   "outputs": [
    {
     "data": {
      "text/html": [
       "<div>\n",
       "<style scoped>\n",
       "    .dataframe tbody tr th:only-of-type {\n",
       "        vertical-align: middle;\n",
       "    }\n",
       "\n",
       "    .dataframe tbody tr th {\n",
       "        vertical-align: top;\n",
       "    }\n",
       "\n",
       "    .dataframe thead th {\n",
       "        text-align: right;\n",
       "    }\n",
       "</style>\n",
       "<table border=\"1\" class=\"dataframe\">\n",
       "  <thead>\n",
       "    <tr style=\"text-align: right;\">\n",
       "      <th></th>\n",
       "      <th>GDP per capita</th>\n",
       "      <th>Social support</th>\n",
       "      <th>Healthy life expectancy</th>\n",
       "      <th>Freedom to make life choices</th>\n",
       "    </tr>\n",
       "    <tr>\n",
       "      <th>Country or region</th>\n",
       "      <th></th>\n",
       "      <th></th>\n",
       "      <th></th>\n",
       "      <th></th>\n",
       "    </tr>\n",
       "  </thead>\n",
       "  <tbody>\n",
       "    <tr>\n",
       "      <th>Finland</th>\n",
       "      <td>1.340</td>\n",
       "      <td>1.587</td>\n",
       "      <td>0.986</td>\n",
       "      <td>0.596</td>\n",
       "    </tr>\n",
       "    <tr>\n",
       "      <th>Denmark</th>\n",
       "      <td>1.383</td>\n",
       "      <td>1.573</td>\n",
       "      <td>0.996</td>\n",
       "      <td>0.592</td>\n",
       "    </tr>\n",
       "    <tr>\n",
       "      <th>Norway</th>\n",
       "      <td>1.488</td>\n",
       "      <td>1.582</td>\n",
       "      <td>1.028</td>\n",
       "      <td>0.603</td>\n",
       "    </tr>\n",
       "    <tr>\n",
       "      <th>Iceland</th>\n",
       "      <td>1.380</td>\n",
       "      <td>1.624</td>\n",
       "      <td>1.026</td>\n",
       "      <td>0.591</td>\n",
       "    </tr>\n",
       "    <tr>\n",
       "      <th>Netherlands</th>\n",
       "      <td>1.396</td>\n",
       "      <td>1.522</td>\n",
       "      <td>0.999</td>\n",
       "      <td>0.557</td>\n",
       "    </tr>\n",
       "  </tbody>\n",
       "</table>\n",
       "</div>"
      ],
      "text/plain": [
       "                   GDP per capita  Social support  Healthy life expectancy  \\\n",
       "Country or region                                                            \n",
       "Finland                     1.340           1.587                    0.986   \n",
       "Denmark                     1.383           1.573                    0.996   \n",
       "Norway                      1.488           1.582                    1.028   \n",
       "Iceland                     1.380           1.624                    1.026   \n",
       "Netherlands                 1.396           1.522                    0.999   \n",
       "\n",
       "                   Freedom to make life choices  \n",
       "Country or region                                \n",
       "Finland                                   0.596  \n",
       "Denmark                                   0.592  \n",
       "Norway                                    0.603  \n",
       "Iceland                                   0.591  \n",
       "Netherlands                               0.557  "
      ]
     },
     "execution_count": 39,
     "metadata": {},
     "output_type": "execute_result"
    }
   ],
   "source": [
    "df2.head()"
   ]
  },
  {
   "cell_type": "code",
   "execution_count": 40,
   "metadata": {},
   "outputs": [
    {
     "data": {
      "text/html": [
       "<div>\n",
       "<style scoped>\n",
       "    .dataframe tbody tr th:only-of-type {\n",
       "        vertical-align: middle;\n",
       "    }\n",
       "\n",
       "    .dataframe tbody tr th {\n",
       "        vertical-align: top;\n",
       "    }\n",
       "\n",
       "    .dataframe thead th {\n",
       "        text-align: right;\n",
       "    }\n",
       "</style>\n",
       "<table border=\"1\" class=\"dataframe\">\n",
       "  <thead>\n",
       "    <tr style=\"text-align: right;\">\n",
       "      <th></th>\n",
       "      <th>max_infection_rate</th>\n",
       "    </tr>\n",
       "    <tr>\n",
       "      <th>Country/Region</th>\n",
       "      <th></th>\n",
       "    </tr>\n",
       "  </thead>\n",
       "  <tbody>\n",
       "    <tr>\n",
       "      <th>Afghanistan</th>\n",
       "      <td>232.0</td>\n",
       "    </tr>\n",
       "    <tr>\n",
       "      <th>Albania</th>\n",
       "      <td>34.0</td>\n",
       "    </tr>\n",
       "    <tr>\n",
       "      <th>Algeria</th>\n",
       "      <td>199.0</td>\n",
       "    </tr>\n",
       "    <tr>\n",
       "      <th>Andorra</th>\n",
       "      <td>43.0</td>\n",
       "    </tr>\n",
       "    <tr>\n",
       "      <th>Angola</th>\n",
       "      <td>5.0</td>\n",
       "    </tr>\n",
       "  </tbody>\n",
       "</table>\n",
       "</div>"
      ],
      "text/plain": [
       "                max_infection_rate\n",
       "Country/Region                    \n",
       "Afghanistan                  232.0\n",
       "Albania                       34.0\n",
       "Algeria                      199.0\n",
       "Andorra                       43.0\n",
       "Angola                         5.0"
      ]
     },
     "execution_count": 40,
     "metadata": {},
     "output_type": "execute_result"
    }
   ],
   "source": [
    "corona_data.head()"
   ]
  },
  {
   "cell_type": "code",
   "execution_count": 26,
   "metadata": {},
   "outputs": [
    {
     "data": {
      "text/plain": [
       "(156, 4)"
      ]
     },
     "execution_count": 26,
     "metadata": {},
     "output_type": "execute_result"
    }
   ],
   "source": [
    "df2.shape"
   ]
  },
  {
   "cell_type": "markdown",
   "metadata": {},
   "source": [
    "### Task4.4: now let's join two dataset we have prepared  "
   ]
  },
  {
   "cell_type": "markdown",
   "metadata": {},
   "source": [
    "#### Corona Dataset :"
   ]
  },
  {
   "cell_type": "code",
   "execution_count": 41,
   "metadata": {},
   "outputs": [
    {
     "data": {
      "text/plain": [
       "(187, 1)"
      ]
     },
     "execution_count": 41,
     "metadata": {},
     "output_type": "execute_result"
    }
   ],
   "source": [
    "corona_data.shape"
   ]
  },
  {
   "cell_type": "code",
   "execution_count": 42,
   "metadata": {},
   "outputs": [
    {
     "data": {
      "text/html": [
       "<div>\n",
       "<style scoped>\n",
       "    .dataframe tbody tr th:only-of-type {\n",
       "        vertical-align: middle;\n",
       "    }\n",
       "\n",
       "    .dataframe tbody tr th {\n",
       "        vertical-align: top;\n",
       "    }\n",
       "\n",
       "    .dataframe thead th {\n",
       "        text-align: right;\n",
       "    }\n",
       "</style>\n",
       "<table border=\"1\" class=\"dataframe\">\n",
       "  <thead>\n",
       "    <tr style=\"text-align: right;\">\n",
       "      <th></th>\n",
       "      <th>max_infection_rate</th>\n",
       "      <th>GDP per capita</th>\n",
       "      <th>Social support</th>\n",
       "      <th>Healthy life expectancy</th>\n",
       "      <th>Freedom to make life choices</th>\n",
       "    </tr>\n",
       "  </thead>\n",
       "  <tbody>\n",
       "    <tr>\n",
       "      <th>Afghanistan</th>\n",
       "      <td>232.0</td>\n",
       "      <td>0.350</td>\n",
       "      <td>0.517</td>\n",
       "      <td>0.361</td>\n",
       "      <td>0.000</td>\n",
       "    </tr>\n",
       "    <tr>\n",
       "      <th>Albania</th>\n",
       "      <td>34.0</td>\n",
       "      <td>0.947</td>\n",
       "      <td>0.848</td>\n",
       "      <td>0.874</td>\n",
       "      <td>0.383</td>\n",
       "    </tr>\n",
       "    <tr>\n",
       "      <th>Algeria</th>\n",
       "      <td>199.0</td>\n",
       "      <td>1.002</td>\n",
       "      <td>1.160</td>\n",
       "      <td>0.785</td>\n",
       "      <td>0.086</td>\n",
       "    </tr>\n",
       "    <tr>\n",
       "      <th>Argentina</th>\n",
       "      <td>291.0</td>\n",
       "      <td>1.092</td>\n",
       "      <td>1.432</td>\n",
       "      <td>0.881</td>\n",
       "      <td>0.471</td>\n",
       "    </tr>\n",
       "    <tr>\n",
       "      <th>Armenia</th>\n",
       "      <td>134.0</td>\n",
       "      <td>0.850</td>\n",
       "      <td>1.055</td>\n",
       "      <td>0.815</td>\n",
       "      <td>0.283</td>\n",
       "    </tr>\n",
       "  </tbody>\n",
       "</table>\n",
       "</div>"
      ],
      "text/plain": [
       "             max_infection_rate  GDP per capita  Social support  \\\n",
       "Afghanistan               232.0           0.350           0.517   \n",
       "Albania                    34.0           0.947           0.848   \n",
       "Algeria                   199.0           1.002           1.160   \n",
       "Argentina                 291.0           1.092           1.432   \n",
       "Armenia                   134.0           0.850           1.055   \n",
       "\n",
       "             Healthy life expectancy  Freedom to make life choices  \n",
       "Afghanistan                    0.361                         0.000  \n",
       "Albania                        0.874                         0.383  \n",
       "Algeria                        0.785                         0.086  \n",
       "Argentina                      0.881                         0.471  \n",
       "Armenia                        0.815                         0.283  "
      ]
     },
     "execution_count": 42,
     "metadata": {},
     "output_type": "execute_result"
    }
   ],
   "source": [
    "newdata=corona_data.join(df2,how=\"inner\")\n",
    "newdata.head()"
   ]
  },
  {
   "cell_type": "markdown",
   "metadata": {},
   "source": [
    "### Task 4.5: correlation matrix "
   ]
  },
  {
   "cell_type": "code",
   "execution_count": 43,
   "metadata": {},
   "outputs": [
    {
     "data": {
      "text/html": [
       "<div>\n",
       "<style scoped>\n",
       "    .dataframe tbody tr th:only-of-type {\n",
       "        vertical-align: middle;\n",
       "    }\n",
       "\n",
       "    .dataframe tbody tr th {\n",
       "        vertical-align: top;\n",
       "    }\n",
       "\n",
       "    .dataframe thead th {\n",
       "        text-align: right;\n",
       "    }\n",
       "</style>\n",
       "<table border=\"1\" class=\"dataframe\">\n",
       "  <thead>\n",
       "    <tr style=\"text-align: right;\">\n",
       "      <th></th>\n",
       "      <th>max_infection_rate</th>\n",
       "      <th>GDP per capita</th>\n",
       "      <th>Social support</th>\n",
       "      <th>Healthy life expectancy</th>\n",
       "      <th>Freedom to make life choices</th>\n",
       "    </tr>\n",
       "  </thead>\n",
       "  <tbody>\n",
       "    <tr>\n",
       "      <th>max_infection_rate</th>\n",
       "      <td>1.000000</td>\n",
       "      <td>0.250118</td>\n",
       "      <td>0.191958</td>\n",
       "      <td>0.289263</td>\n",
       "      <td>0.078196</td>\n",
       "    </tr>\n",
       "    <tr>\n",
       "      <th>GDP per capita</th>\n",
       "      <td>0.250118</td>\n",
       "      <td>1.000000</td>\n",
       "      <td>0.759468</td>\n",
       "      <td>0.863062</td>\n",
       "      <td>0.394603</td>\n",
       "    </tr>\n",
       "    <tr>\n",
       "      <th>Social support</th>\n",
       "      <td>0.191958</td>\n",
       "      <td>0.759468</td>\n",
       "      <td>1.000000</td>\n",
       "      <td>0.765286</td>\n",
       "      <td>0.456246</td>\n",
       "    </tr>\n",
       "    <tr>\n",
       "      <th>Healthy life expectancy</th>\n",
       "      <td>0.289263</td>\n",
       "      <td>0.863062</td>\n",
       "      <td>0.765286</td>\n",
       "      <td>1.000000</td>\n",
       "      <td>0.427892</td>\n",
       "    </tr>\n",
       "    <tr>\n",
       "      <th>Freedom to make life choices</th>\n",
       "      <td>0.078196</td>\n",
       "      <td>0.394603</td>\n",
       "      <td>0.456246</td>\n",
       "      <td>0.427892</td>\n",
       "      <td>1.000000</td>\n",
       "    </tr>\n",
       "  </tbody>\n",
       "</table>\n",
       "</div>"
      ],
      "text/plain": [
       "                              max_infection_rate  GDP per capita  \\\n",
       "max_infection_rate                      1.000000        0.250118   \n",
       "GDP per capita                          0.250118        1.000000   \n",
       "Social support                          0.191958        0.759468   \n",
       "Healthy life expectancy                 0.289263        0.863062   \n",
       "Freedom to make life choices            0.078196        0.394603   \n",
       "\n",
       "                              Social support  Healthy life expectancy  \\\n",
       "max_infection_rate                  0.191958                 0.289263   \n",
       "GDP per capita                      0.759468                 0.863062   \n",
       "Social support                      1.000000                 0.765286   \n",
       "Healthy life expectancy             0.765286                 1.000000   \n",
       "Freedom to make life choices        0.456246                 0.427892   \n",
       "\n",
       "                              Freedom to make life choices  \n",
       "max_infection_rate                                0.078196  \n",
       "GDP per capita                                    0.394603  \n",
       "Social support                                    0.456246  \n",
       "Healthy life expectancy                           0.427892  \n",
       "Freedom to make life choices                      1.000000  "
      ]
     },
     "execution_count": 43,
     "metadata": {},
     "output_type": "execute_result"
    }
   ],
   "source": [
    "newdata.corr()"
   ]
  },
  {
   "cell_type": "markdown",
   "metadata": {},
   "source": [
    "### Task 5: Visualization of the results\n",
    "our Analysis is not finished unless we visualize the results in terms figures and graphs so that everyone can understand what you get out of our analysis"
   ]
  },
  {
   "cell_type": "code",
   "execution_count": 44,
   "metadata": {},
   "outputs": [
    {
     "data": {
      "image/png": "[encoded data removed]",
      "text/plain": [
       "<Figure size 1000x600 with 2 Axes>"
      ]
     },
     "metadata": {},
     "output_type": "display_data"
    }
   ],
   "source": [
    "import seaborn as sns\n",
    "import matplotlib.pyplot as plt\n",
    "\n",
    "# Compute correlation matrix\n",
    "corr_matrix = newdata.corr()\n",
    "\n",
    "# Plot heatmap\n",
    "plt.figure(figsize=(10, 6))\n",
    "sns.heatmap(corr_matrix, annot=True, cmap=\"coolwarm\", fmt=\".2f\", linewidths=0.5)\n",
    "plt.title(\"Correlation Heatmap\")\n",
    "plt.show()\n"
   ]
  },
  {
   "cell_type": "code",
   "execution_count": 37,
   "metadata": {},
   "outputs": [
    {
     "data": {
      "text/html": [
       "<div>\n",
       "<style scoped>\n",
       "    .dataframe tbody tr th:only-of-type {\n",
       "        vertical-align: middle;\n",
       "    }\n",
       "\n",
       "    .dataframe tbody tr th {\n",
       "        vertical-align: top;\n",
       "    }\n",
       "\n",
       "    .dataframe thead th {\n",
       "        text-align: right;\n",
       "    }\n",
       "</style>\n",
       "<table border=\"1\" class=\"dataframe\">\n",
       "  <thead>\n",
       "    <tr style=\"text-align: right;\">\n",
       "      <th></th>\n",
       "      <th>max_infection_rate</th>\n",
       "      <th>GDP per capita</th>\n",
       "      <th>Social support</th>\n",
       "      <th>Healthy life expectancy</th>\n",
       "      <th>Freedom to make life choices</th>\n",
       "    </tr>\n",
       "  </thead>\n",
       "  <tbody>\n",
       "    <tr>\n",
       "      <th>Afghanistan</th>\n",
       "      <td>232.0</td>\n",
       "      <td>0.350</td>\n",
       "      <td>0.517</td>\n",
       "      <td>0.361</td>\n",
       "      <td>0.000</td>\n",
       "    </tr>\n",
       "    <tr>\n",
       "      <th>Albania</th>\n",
       "      <td>34.0</td>\n",
       "      <td>0.947</td>\n",
       "      <td>0.848</td>\n",
       "      <td>0.874</td>\n",
       "      <td>0.383</td>\n",
       "    </tr>\n",
       "    <tr>\n",
       "      <th>Algeria</th>\n",
       "      <td>199.0</td>\n",
       "      <td>1.002</td>\n",
       "      <td>1.160</td>\n",
       "      <td>0.785</td>\n",
       "      <td>0.086</td>\n",
       "    </tr>\n",
       "    <tr>\n",
       "      <th>Argentina</th>\n",
       "      <td>291.0</td>\n",
       "      <td>1.092</td>\n",
       "      <td>1.432</td>\n",
       "      <td>0.881</td>\n",
       "      <td>0.471</td>\n",
       "    </tr>\n",
       "    <tr>\n",
       "      <th>Armenia</th>\n",
       "      <td>134.0</td>\n",
       "      <td>0.850</td>\n",
       "      <td>1.055</td>\n",
       "      <td>0.815</td>\n",
       "      <td>0.283</td>\n",
       "    </tr>\n",
       "  </tbody>\n",
       "</table>\n",
       "</div>"
      ],
      "text/plain": [
       "             max_infection_rate  GDP per capita  Social support  \\\n",
       "Afghanistan               232.0           0.350           0.517   \n",
       "Albania                    34.0           0.947           0.848   \n",
       "Algeria                   199.0           1.002           1.160   \n",
       "Argentina                 291.0           1.092           1.432   \n",
       "Armenia                   134.0           0.850           1.055   \n",
       "\n",
       "             Healthy life expectancy  Freedom to make life choices  \n",
       "Afghanistan                    0.361                         0.000  \n",
       "Albania                        0.874                         0.383  \n",
       "Algeria                        0.785                         0.086  \n",
       "Argentina                      0.881                         0.471  \n",
       "Armenia                        0.815                         0.283  "
      ]
     },
     "execution_count": 37,
     "metadata": {},
     "output_type": "execute_result"
    }
   ],
   "source": [
    "newdata.head()"
   ]
  },
  {
   "cell_type": "markdown",
   "metadata": {},
   "source": [
    "### Task 5.1: Plotting GDP vs maximum Infection rate"
   ]
  },
  {
   "cell_type": "code",
   "execution_count": 46,
   "metadata": {},
   "outputs": [],
   "source": [
    "x=newdata[\"GDP per capita\"];\n",
    "y=newdata[\"max_infection_rate\"];\n"
   ]
  },
  {
   "cell_type": "code",
   "execution_count": 47,
   "metadata": {},
   "outputs": [
    {
     "data": {
      "text/plain": [
       "<AxesSubplot: xlabel='GDP per capita', ylabel='max_infection_rate'>"
      ]
     },
     "execution_count": 47,
     "metadata": {},
     "output_type": "execute_result"
    },
    {
     "data": {
      "image/png": "[encoded data removed]",
      "text/plain": [
       "<Figure size 640x480 with 1 Axes>"
      ]
     },
     "metadata": {},
     "output_type": "display_data"
    }
   ],
   "source": [
    "sns.scatterplot(x=x,y=np.log(y))"
   ]
  },
  {
   "cell_type": "code",
   "execution_count": 56,
   "metadata": {},
   "outputs": [
    {
     "data": {
      "text/plain": [
       "<AxesSubplot: xlabel='GDP per capita', ylabel='max_infection_rate'>"
      ]
     },
     "execution_count": 56,
     "metadata": {},
     "output_type": "execute_result"
    },
    {
     "data": {
      "image/png": "[encoded data removed]",
      "text/plain": [
       "<Figure size 640x480 with 1 Axes>"
      ]
     },
     "metadata": {},
     "output_type": "display_data"
    }
   ],
   "source": [
    "sns.regplot(x=x,y=np.log(y))"
   ]
  },
  {
   "cell_type": "markdown",
   "metadata": {},
   "source": [
    "### Task 5.2: Plotting Social support vs maximum Infection rate"
   ]
  },
  {
   "cell_type": "code",
   "execution_count": 62,
   "metadata": {},
   "outputs": [],
   "source": [
    "x=newdata[\"max_infection_rate\"];\n",
    "y=newdata[\"Social support\"];\n"
   ]
  },
  {
   "cell_type": "code",
   "execution_count": 63,
   "metadata": {},
   "outputs": [
    {
     "data": {
      "text/plain": [
       "<AxesSubplot: xlabel='max_infection_rate', ylabel='Social support'>"
      ]
     },
     "execution_count": 63,
     "metadata": {},
     "output_type": "execute_result"
    },
    {
     "data": {
      "image/png": "[encoded data removed]",
      "text/plain": [
       "<Figure size 640x480 with 1 Axes>"
      ]
     },
     "metadata": {},
     "output_type": "display_data"
    }
   ],
   "source": [
    "sns.regplot(x=np.log(x),y=y)"
   ]
  },
  {
   "cell_type": "markdown",
   "metadata": {},
   "source": [
    "### Task 5.3: Plotting Healthy life expectancy vs maximum Infection rate"
   ]
  },
  {
   "cell_type": "code",
   "execution_count": 65,
   "metadata": {},
   "outputs": [],
   "source": [
    "x=newdata[\"max_infection_rate\"];\n",
    "y=newdata[\"Healthy life expectancy\"];\n"
   ]
  },
  {
   "cell_type": "code",
   "execution_count": 66,
   "metadata": {},
   "outputs": [
    {
     "data": {
      "text/plain": [
       "<AxesSubplot: xlabel='max_infection_rate', ylabel='Healthy life expectancy'>"
      ]
     },
     "execution_count": 66,
     "metadata": {},
     "output_type": "execute_result"
    },
    {
     "data": {
      "image/png": "[encoded data removed]",
      "text/plain": [
       "<Figure size 640x480 with 1 Axes>"
      ]
     },
     "metadata": {},
     "output_type": "display_data"
    }
   ],
   "source": [
    "sns.regplot(x=np.log(x),y=y)"
   ]
  },
  {
   "cell_type": "markdown",
   "metadata": {},
   "source": [
    "### Task 5.4: Plotting Freedom to make life choices vs maximum Infection rate"
   ]
  },
  {
   "cell_type": "code",
   "execution_count": 67,
   "metadata": {},
   "outputs": [],
   "source": [
    "x=newdata[\"max_infection_rate\"];\n",
    "y=newdata[\"Freedom to make life choices\"];\n"
   ]
  },
  {
   "cell_type": "code",
   "execution_count": 68,
   "metadata": {},
   "outputs": [
    {
     "data": {
      "text/plain": [
       "<AxesSubplot: xlabel='max_infection_rate', ylabel='Freedom to make life choices'>"
      ]
     },
     "execution_count": 68,
     "metadata": {},
     "output_type": "execute_result"
    },
    {
     "data": {
      "image/png": "[encoded data removed]",
      "text/plain": [
       "<Figure size 640x480 with 1 Axes>"
      ]
     },
     "metadata": {},
     "output_type": "display_data"
    }
   ],
   "source": [
    "sns.regplot(x=np.log(x),y=y)"
   ]
  },
  {
   "cell_type": "markdown",
   "metadata": {},
   "source": [
    "### Findings"
   ]
  },
  {
   "cell_type": "markdown",
   "metadata": {},
   "source": [
    "\n",
    "• Positive Correlation: The regression line shows an upward trend, indicating that as GDP per capita increases, the max infection rate also tends to increase.\n",
    "\n",
    "• Variability: While the trend is positive, the data points are quite scattered, meaning there is significant variation in infection rates even for similar GDP per capita values.\n",
    "\n",
    "• Possible Explanation: Countries with higher GDP per capita might have better reporting and testing, leading to higher recorded infection rates. Alternatively, higher economic activity could lead to more human interactions, increasing transmission rat"
   ]
  }
 ],
 "metadata": {
  "kernelspec": {
   "display_name": "Python 3 (ipykernel)",
   "language": "python",
   "name": "python3"
  },
  "language_info": {
   "codemirror_mode": {
    "name": "ipython",
    "version": 3
   },
   "file_extension": ".py",
   "mimetype": "text/x-python",
   "name": "python",
   "nbconvert_exporter": "python",
   "pygments_lexer": "ipython3",
   "version": "3.10.6"
  }
 },
 "nbformat": 4,
 "nbformat_minor": 2
}
